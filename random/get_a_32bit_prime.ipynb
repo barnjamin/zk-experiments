{
 "cells": [
  {
   "attachments": {},
   "cell_type": "markdown",
   "metadata": {},
   "source": [
    "## Thanks `ChatGPT` for the Following...\n",
    "\n",
    "### Other references\n",
    "* https://primes.utm.edu/curios/includes/primetest.php\n",
    "* http://www.umopit.ru/CompLab/primes32eng.htm - that's where you can get the file `primes.32b` assumed below\n",
    "* https://play.zokrat.es/"
   ]
  },
  {
   "attachments": {},
   "cell_type": "markdown",
   "metadata": {},
   "source": [
    "## **Secret Bounties**:  Buying a secret with a special property privately on chain\n",
    "\n",
    "Suppose Alice wants to know something and is willing to pay for it when provided with the info. Eg, she publishes a large number $n$ she wishes to learn a factor of. She wants to ensure **fair payouts** to bounty hunters: they should be 100% confident of being payed for providing the secret. An Algorand Application or Logic Signature seems well suited for this purpose. But she doesn’t want others to learn the secret by replaying the app/logic sig transaction which is totally public. So she announces the following **Secret Bounty Program**:\n",
    "\n",
    "1. Alice publishes the secret request (eg “find a factor of $n$”) and a way to contact her privately\n",
    "2. A bounty hunter Eve contacts Alice claiming a solution (eg she knows a $p$ that factors $n$) \n",
    "3. Alice prepares the bounty algorithm and shares all details with Eve:\n",
    "  * Alice privately sends Eve a _one time pad_ $r$ (or another reversible method for hiding the secret) which will be used to create the obscured input $z$\n",
    "  * Alice also prepares a ZK-SNARK for “I know a $z$ that when unencrypted by secret $r$ produces Alice's requested secret” (eg $z$ unpadded by $r$ is a non-trivial factor of $n$).\n",
    "  * Alice prepares an app or logic sig to verify the ZK-SNARK and payout to Eve’s address\n",
    "4. Alice puts 1337 Algos reward is this app or logic sig\n",
    "5. Eve sends a payment transaction from the app or logic sig with argument $z$ and gets paid"
   ]
  },
  {
   "cell_type": "code",
   "execution_count": 3,
   "metadata": {},
   "outputs": [],
   "source": [
    "from sympy import isprime\n",
    "import struct\n",
    "import random\n",
    "\n",
    "def get_random_prime(primes_file='primes.32b'):\n",
    "    # Open the file in binary mode\n",
    "    with open(primes_file, 'rb') as f:\n",
    "        # Read the file size\n",
    "        f.seek(0, 2)\n",
    "        file_size = f.tell()\n",
    "\n",
    "        # Go back to the beginning of the file\n",
    "        f.seek(0)\n",
    "\n",
    "        # Calculate the number of prime numbers in the file\n",
    "        num_primes = file_size // 4\n",
    "\n",
    "        # Generate a random index between 0 and num_primes - 1\n",
    "        index = random.randint(0, num_primes - 1)\n",
    "\n",
    "        # Seek to the position of the prime number at the selected index\n",
    "        f.seek(index * 4)\n",
    "\n",
    "        # Read the prime number at the selected index\n",
    "        prime = struct.unpack('<I', f.read(4))[0]\n",
    "\n",
    "        # Print the selected prime number\n",
    "        print(prime)\n",
    "\n",
    "        assert isprime(prime), \"oh crap!!!\"\n",
    "\n",
    "        print(\"Yay!!! sympy says it was actually prime\")"
   ]
  },
  {
   "cell_type": "code",
   "execution_count": 2,
   "metadata": {},
   "outputs": [
    {
     "name": "stdout",
     "output_type": "stream",
     "text": [
      "764025083\n"
     ]
    }
   ],
   "source": [
    "get_random_prime() # older version"
   ]
  },
  {
   "cell_type": "code",
   "execution_count": 4,
   "metadata": {},
   "outputs": [
    {
     "name": "stdout",
     "output_type": "stream",
     "text": [
      "2222792309\n",
      "Yay!!! sympy says it was actually prime\n"
     ]
    }
   ],
   "source": [
    "get_random_prime() # newer version"
   ]
  },
  {
   "cell_type": "code",
   "execution_count": 12,
   "metadata": {},
   "outputs": [],
   "source": [
    "p, q = 764025083, 2222792309"
   ]
  },
  {
   "cell_type": "code",
   "execution_count": 13,
   "metadata": {},
   "outputs": [
    {
     "name": "stdout",
     "output_type": "stream",
     "text": [
      "764025083 * 2222792309 = 1698269078375486647\n"
     ]
    }
   ],
   "source": [
    "print(f\"{p} * {q} = {p * q}\")"
   ]
  },
  {
   "cell_type": "code",
   "execution_count": 14,
   "metadata": {},
   "outputs": [
    {
     "data": {
      "text/plain": [
       "False"
      ]
     },
     "execution_count": 14,
     "metadata": {},
     "output_type": "execute_result"
    }
   ],
   "source": [
    "isprime(p*q)"
   ]
  },
  {
   "attachments": {},
   "cell_type": "markdown",
   "metadata": {},
   "source": [
    "## Get a random 64 bit number"
   ]
  },
  {
   "cell_type": "code",
   "execution_count": 8,
   "metadata": {},
   "outputs": [
    {
     "name": "stdout",
     "output_type": "stream",
     "text": [
      "15825923428474158623\n"
     ]
    }
   ],
   "source": [
    "import secrets\n",
    "\n",
    "# Generate a random 64-bit integer\n",
    "random_int = secrets.randbelow(2**64)\n",
    "\n",
    "# Print the generated integer\n",
    "print(random_int)"
   ]
  },
  {
   "cell_type": "code",
   "execution_count": 15,
   "metadata": {},
   "outputs": [
    {
     "data": {
      "text/plain": [
       "(15825923429238183706, 15825923430696950932)"
      ]
     },
     "execution_count": 15,
     "metadata": {},
     "output_type": "execute_result"
    }
   ],
   "source": [
    "p_r, q_r = list(map(lambda x: (x + random_int) % 2**64, (p, q)))\n",
    "\n",
    "p_r, q_r"
   ]
  },
  {
   "cell_type": "code",
   "execution_count": null,
   "metadata": {},
   "outputs": [],
   "source": []
  }
 ],
 "metadata": {
  "kernelspec": {
   "display_name": ".venv",
   "language": "python",
   "name": "python3"
  },
  "language_info": {
   "codemirror_mode": {
    "name": "ipython",
    "version": 3
   },
   "file_extension": ".py",
   "mimetype": "text/x-python",
   "name": "python",
   "nbconvert_exporter": "python",
   "pygments_lexer": "ipython3",
   "version": "3.11.1"
  },
  "orig_nbformat": 4,
  "vscode": {
   "interpreter": {
    "hash": "6ea5620d708e9de55a177663c384995dc142ce76552e3ea6830678752d7836b2"
   }
  }
 },
 "nbformat": 4,
 "nbformat_minor": 2
}
