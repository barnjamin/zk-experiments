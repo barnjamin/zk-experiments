{
 "cells": [
  {
   "attachments": {},
   "cell_type": "markdown",
   "metadata": {},
   "source": [
    "## Thanks `ChatGPT` for the Following...\n",
    "\n",
    "### Other references\n",
    "* https://primes.utm.edu/curios/includes/primetest.php\n",
    "* http://www.umopit.ru/CompLab/primes32eng.htm - that's where you can get the file `primes.32b` assumed below"
   ]
  },
  {
   "cell_type": "code",
   "execution_count": 3,
   "metadata": {},
   "outputs": [],
   "source": [
    "from sympy import isprime\n",
    "import struct\n",
    "import random\n",
    "\n",
    "def get_random_prime(primes_file='primes.32b'):\n",
    "    # Open the file in binary mode\n",
    "    with open(primes_file, 'rb') as f:\n",
    "        # Read the file size\n",
    "        f.seek(0, 2)\n",
    "        file_size = f.tell()\n",
    "\n",
    "        # Go back to the beginning of the file\n",
    "        f.seek(0)\n",
    "\n",
    "        # Calculate the number of prime numbers in the file\n",
    "        num_primes = file_size // 4\n",
    "\n",
    "        # Generate a random index between 0 and num_primes - 1\n",
    "        index = random.randint(0, num_primes - 1)\n",
    "\n",
    "        # Seek to the position of the prime number at the selected index\n",
    "        f.seek(index * 4)\n",
    "\n",
    "        # Read the prime number at the selected index\n",
    "        prime = struct.unpack('<I', f.read(4))[0]\n",
    "\n",
    "        # Print the selected prime number\n",
    "        print(prime)\n",
    "\n",
    "        assert isprime(prime), \"oh crap!!!\"\n",
    "\n",
    "        print(\"Yay!!! sympy says it was actually prime\")"
   ]
  },
  {
   "cell_type": "code",
   "execution_count": 2,
   "metadata": {},
   "outputs": [
    {
     "name": "stdout",
     "output_type": "stream",
     "text": [
      "764025083\n"
     ]
    }
   ],
   "source": [
    "get_random_prime() # older version"
   ]
  },
  {
   "cell_type": "code",
   "execution_count": 4,
   "metadata": {},
   "outputs": [
    {
     "name": "stdout",
     "output_type": "stream",
     "text": [
      "2222792309\n",
      "Yay!!! sympy says it was actually prime\n"
     ]
    }
   ],
   "source": [
    "get_random_prime() # newer version"
   ]
  },
  {
   "cell_type": "code",
   "execution_count": 6,
   "metadata": {},
   "outputs": [
    {
     "name": "stdout",
     "output_type": "stream",
     "text": [
      "764025083 * 2222792309 = 1698269078375486647\n"
     ]
    }
   ],
   "source": [
    "print(f\"{764025083} * {2222792309} = {764025083 * 2222792309}\")"
   ]
  },
  {
   "cell_type": "code",
   "execution_count": 7,
   "metadata": {},
   "outputs": [
    {
     "data": {
      "text/plain": [
       "False"
      ]
     },
     "execution_count": 7,
     "metadata": {},
     "output_type": "execute_result"
    }
   ],
   "source": [
    "isprime(1698269078375486647)"
   ]
  },
  {
   "cell_type": "code",
   "execution_count": null,
   "metadata": {},
   "outputs": [],
   "source": []
  }
 ],
 "metadata": {
  "kernelspec": {
   "display_name": ".venv",
   "language": "python",
   "name": "python3"
  },
  "language_info": {
   "codemirror_mode": {
    "name": "ipython",
    "version": 3
   },
   "file_extension": ".py",
   "mimetype": "text/x-python",
   "name": "python",
   "nbconvert_exporter": "python",
   "pygments_lexer": "ipython3",
   "version": "3.11.1"
  },
  "orig_nbformat": 4,
  "vscode": {
   "interpreter": {
    "hash": "6ea5620d708e9de55a177663c384995dc142ce76552e3ea6830678752d7836b2"
   }
  }
 },
 "nbformat": 4,
 "nbformat_minor": 2
}
